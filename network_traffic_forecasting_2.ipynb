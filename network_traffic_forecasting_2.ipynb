{
 "cells": [
  {
   "cell_type": "code",
   "execution_count": 1,
   "metadata": {},
   "outputs": [],
   "source": [
    "from src.features import preprocessing"
   ]
  },
  {
   "cell_type": "code",
   "execution_count": 2,
   "metadata": {},
   "outputs": [
    {
     "name": "stderr",
     "output_type": "stream",
     "text": [
      "100%|██████████| 30000/30000 [00:10<00:00, 2884.18it/s]\n"
     ]
    }
   ],
   "source": [
    "DATA_PATH = \"./datasets/traffic/\"\n",
    "\n",
    "list_of_datafiles = preprocessing.get_list_of_datafiles(DATA_PATH, sort = True)\n",
    "df = preprocessing.load_data(DATA_PATH, list_of_datafiles)\n",
    "train_df, test_df = preprocessing.make_train_test_datasets(df, split_point=20000)"
   ]
  },
  {
   "cell_type": "code",
   "execution_count": 6,
   "metadata": {},
   "outputs": [
    {
     "data": {
      "text/html": [
       "<div>\n",
       "<style scoped>\n",
       "    .dataframe tbody tr th:only-of-type {\n",
       "        vertical-align: middle;\n",
       "    }\n",
       "\n",
       "    .dataframe tbody tr th {\n",
       "        vertical-align: top;\n",
       "    }\n",
       "\n",
       "    .dataframe thead th {\n",
       "        text-align: right;\n",
       "    }\n",
       "</style>\n",
       "<table border=\"1\" class=\"dataframe\">\n",
       "  <thead>\n",
       "    <tr style=\"text-align: right;\">\n",
       "      <th></th>\n",
       "      <th>5-&gt;8</th>\n",
       "      <th>8-&gt;5</th>\n",
       "      <th>5-&gt;12</th>\n",
       "      <th>8-&gt;12</th>\n",
       "    </tr>\n",
       "  </thead>\n",
       "  <tbody>\n",
       "    <tr>\n",
       "      <th>0</th>\n",
       "      <td>0.0</td>\n",
       "      <td>501.780</td>\n",
       "      <td>0.0</td>\n",
       "      <td>714.854</td>\n",
       "    </tr>\n",
       "    <tr>\n",
       "      <th>1</th>\n",
       "      <td>0.0</td>\n",
       "      <td>495.681</td>\n",
       "      <td>0.0</td>\n",
       "      <td>661.079</td>\n",
       "    </tr>\n",
       "    <tr>\n",
       "      <th>2</th>\n",
       "      <td>0.0</td>\n",
       "      <td>489.578</td>\n",
       "      <td>0.0</td>\n",
       "      <td>589.308</td>\n",
       "    </tr>\n",
       "    <tr>\n",
       "      <th>3</th>\n",
       "      <td>0.0</td>\n",
       "      <td>483.474</td>\n",
       "      <td>0.0</td>\n",
       "      <td>506.632</td>\n",
       "    </tr>\n",
       "    <tr>\n",
       "      <th>4</th>\n",
       "      <td>0.0</td>\n",
       "      <td>477.368</td>\n",
       "      <td>0.0</td>\n",
       "      <td>421.274</td>\n",
       "    </tr>\n",
       "  </tbody>\n",
       "</table>\n",
       "</div>"
      ],
      "text/plain": [
       "   5->8     8->5  5->12    8->12\n",
       "0   0.0  501.780    0.0  714.854\n",
       "1   0.0  495.681    0.0  661.079\n",
       "2   0.0  489.578    0.0  589.308\n",
       "3   0.0  483.474    0.0  506.632\n",
       "4   0.0  477.368    0.0  421.274"
      ]
     },
     "execution_count": 6,
     "metadata": {},
     "output_type": "execute_result"
    }
   ],
   "source": [
    "test_df.head()"
   ]
  },
  {
   "cell_type": "code",
   "execution_count": null,
   "metadata": {},
   "outputs": [],
   "source": []
  }
 ],
 "metadata": {
  "interpreter": {
   "hash": "7cfe90efdc2fcbbc362c1f6ecb7538b200d00187f10032c348f27b58166711f8"
  },
  "kernelspec": {
   "display_name": "Python 3.7.4 ('venv': venv)",
   "language": "python",
   "name": "python3"
  },
  "language_info": {
   "codemirror_mode": {
    "name": "ipython",
    "version": 3
   },
   "file_extension": ".py",
   "mimetype": "text/x-python",
   "name": "python",
   "nbconvert_exporter": "python",
   "pygments_lexer": "ipython3",
   "version": "3.10.4"
  },
  "orig_nbformat": 4
 },
 "nbformat": 4,
 "nbformat_minor": 2
}
