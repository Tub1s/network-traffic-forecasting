{
 "cells": [
  {
   "cell_type": "code",
   "execution_count": null,
   "metadata": {},
   "outputs": [],
   "source": [
    "from src.features import preprocessing\n",
    "import river"
   ]
  },
  {
   "cell_type": "code",
   "execution_count": null,
   "metadata": {},
   "outputs": [],
   "source": [
    "DATA_PATH = \"./datasets/traffic/\"\n",
    "\n",
    "list_of_datafiles = preprocessing.get_list_of_datafiles(DATA_PATH, sort = True)\n",
    "df = preprocessing.load_data(DATA_PATH, list_of_datafiles)\n",
    "train_df, test_df = preprocessing.make_train_test_datasets(df, split_point=20000)"
   ]
  },
  {
   "cell_type": "code",
   "execution_count": null,
   "metadata": {},
   "outputs": [],
   "source": [
    "n_input_steps = 1\n",
    "n_output_steps = 1\n",
    "#target = '5->8' # SMAPE: ~3.5\n",
    "#target = '8->5' # SMAPE: ~3.5\n",
    "target = '5->12' # SMAPE: ~20.0\n",
    "#target = '8->12' # SMAPE: ~7.5\n",
    "X, y = preprocessing.split_sequence(sequence = df[target], n_input_steps=n_input_steps, n_output_steps=n_output_steps)\n",
    "#X_test, y_test = preprocessing.split_sequence(sequence = test_df[target], n_input_steps=n_input_steps, n_output_steps=n_output_steps)"
   ]
  },
  {
   "cell_type": "code",
   "execution_count": null,
   "metadata": {},
   "outputs": [],
   "source": [
    "X, y"
   ]
  },
  {
   "cell_type": "code",
   "execution_count": null,
   "metadata": {},
   "outputs": [],
   "source": [
    "import numpy as np"
   ]
  },
  {
   "cell_type": "code",
   "execution_count": null,
   "metadata": {},
   "outputs": [],
   "source": [
    "# model = river.compose.Pipeline(\n",
    "#     river.preprocessing.StandardScaler(),\n",
    "#     river.linear_model.LinearRegression(river.optim.SGD(lr=0.3))\n",
    "#     )\n",
    "# metric = river.metrics.SMAPE()\n",
    "\n",
    "# predicted = list()\n",
    "# for xi, yi in river.stream.iter_array(X, y):\n",
    "#     # Test the current model on the new \"unobserved\" sample\n",
    "#     yi_pred = model.predict_one(xi)\n",
    "\n",
    "#     # Update the running metric with the prediction and ground truth value\n",
    "#     metric.update(yi[0], yi_pred)\n",
    "#     predicted.append(yi_pred)\n",
    "\n",
    "#     # Train the model with the new sample\n",
    "#     model.learn_one(xi, yi[0])\n",
    "\n",
    "\n",
    "# print(f'ROC AUC: {metric}')"
   ]
  },
  {
   "cell_type": "code",
   "execution_count": null,
   "metadata": {},
   "outputs": [],
   "source": [
    "models = [\n",
    "river.linear_model.LinearRegression(optimizer=river.optim.SGD(lr=lr))\n",
    "for lr in [0.0001, 0.001, 1e-05, 0.01]\n",
    "]\n",
    "\n",
    "model = (\n",
    "river.preprocessing.StandardScaler() |\n",
    "    river.model_selection.EpsilonGreedyRegressor(\n",
    "    models,\n",
    "    epsilon=0.1,\n",
    "    decay=0.001,\n",
    "    burn_in=100,\n",
    "    seed=1\n",
    "    )\n",
    ")\n",
    "\n",
    "metric = river.metrics.SMAPE()\n",
    "\n",
    "predicted = list()\n",
    "for xi, yi in river.stream.iter_array(X, y):\n",
    "    # Test the current model on the new \"unobserved\" sample\n",
    "    yi_pred = model.predict_one(xi)\n",
    "\n",
    "    # Update the running metric with the prediction and ground truth value\n",
    "    metric.update(yi[0], yi_pred)\n",
    "    predicted.append(yi_pred)\n",
    "\n",
    "    # Train the model with the new sample\n",
    "    model.learn_one(xi, yi[0])\n",
    "\n",
    "\n",
    "print(f'{metric}')\n",
    "model['EpsilonGreedyRegressor'].best_model"
   ]
  },
  {
   "cell_type": "code",
   "execution_count": null,
   "metadata": {},
   "outputs": [],
   "source": [
    "for i in range(len(predicted)):\n",
    "    print(f\"real: {y[i]} | pred: {predicted[i]}\")"
   ]
  },
  {
   "cell_type": "code",
   "execution_count": null,
   "metadata": {},
   "outputs": [],
   "source": [
    "import matplotlib.pyplot as plt"
   ]
  },
  {
   "cell_type": "code",
   "execution_count": null,
   "metadata": {},
   "outputs": [],
   "source": [
    "figure = plt.figure(figsize = (20, 15))\n",
    "ax = plt.subplot(111)\n",
    "line = ax.plot(np.arange(0, len(y), 1), y, 'r', linewidth=5)\n",
    "line2 = ax.plot(np.arange(0, len(predicted), 1), predicted, 'b', linewidth=1)\n",
    "\n",
    "box = ax.get_position()\n",
    "ax.set_position([box.x0, box.y0 + box.height * 0.1,\n",
    "                    box.width, box.height * 0.9])\n",
    "\n",
    "ax.legend(loc='upper center', bbox_to_anchor=(0.5, -0.05),\n",
    "            fancybox=True, shadow=True, ncol=2)\n",
    "\n",
    "plt.show()"
   ]
  },
  {
   "cell_type": "code",
   "execution_count": null,
   "metadata": {},
   "outputs": [],
   "source": []
  }
 ],
 "metadata": {
  "interpreter": {
   "hash": "32d3e74f3df94fb62d833199ff807b97996d62fb18dca42b5a455cf9687e2e8c"
  },
  "kernelspec": {
   "display_name": "Python 3.8.5 ('venv': venv)",
   "language": "python",
   "name": "python3"
  },
  "language_info": {
   "codemirror_mode": {
    "name": "ipython",
    "version": 3
   },
   "file_extension": ".py",
   "mimetype": "text/x-python",
   "name": "python",
   "nbconvert_exporter": "python",
   "pygments_lexer": "ipython3",
   "version": "3.8.5"
  },
  "orig_nbformat": 4
 },
 "nbformat": 4,
 "nbformat_minor": 2
}
