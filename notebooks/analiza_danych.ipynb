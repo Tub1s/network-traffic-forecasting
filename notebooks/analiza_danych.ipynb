{
 "cells": [
  {
   "cell_type": "code",
   "execution_count": null,
   "metadata": {},
   "outputs": [],
   "source": [
    "import pickle\n",
    "import pandas as pd\n",
    "import numpy as np\n",
    "import os\n",
    "from sklearn.metrics import mean_absolute_percentage_error, mean_absolute_error"
   ]
  },
  {
   "cell_type": "code",
   "execution_count": null,
   "metadata": {},
   "outputs": [],
   "source": [
    "data_path = \"./deeplearning_results/\"\n",
    "dl_results = os.listdir(data_path)\n",
    "dl_results_paths = [data_path + file for file in dl_results]"
   ]
  },
  {
   "cell_type": "code",
   "execution_count": null,
   "metadata": {},
   "outputs": [],
   "source": [
    "results = []\n",
    "i = 0\n",
    "for path in dl_results_paths:\n",
    "    temp = {}\n",
    "    if \"lstm\" in path:\n",
    "        temp['name'] = \"BiLSTM\"\n",
    "        in_size = dl_results[i].split(\"_\")[2].replace('in', '')\n",
    "        out_size = dl_results[i].split(\"_\")[3].replace('out', '')\n",
    "        \n",
    "    else:\n",
    "        temp['name'] = \"MLP\"\n",
    "        in_size = dl_results[i].split(\"_\")[1].replace('in', '')\n",
    "        out_size = dl_results[i].split(\"_\")[2].replace('out', '')\n",
    "    \n",
    "    with open(path, \"rb\") as f:\n",
    "        payload = pickle.load(f)\n",
    "    \n",
    "    \n",
    "    temp['INPUT SIZE'] = in_size\n",
    "    temp['OUTPUT SIZE'] = out_size\n",
    "    temp['TARGET'] = dl_results[i].split(\"_\")[-1].replace('target', '').replace('.pkl','')\n",
    "    temp['MAPE'] = payload['MAPE']\n",
    "    temp['SMAPE'] = payload['sMAPE']\n",
    "    temp['MAE'] = payload['MAE']\n",
    "    temp['MDA'] = payload['MDA']\n",
    "\n",
    "    results.append(temp)\n",
    "    i = i + 1\n",
    "\n",
    "df = pd.DataFrame(results)#.sort_values([], ascending=True).reset_index(drop=True)"
   ]
  },
  {
   "cell_type": "code",
   "execution_count": null,
   "metadata": {},
   "outputs": [],
   "source": [
    "df[df['name'] == 'MLP']"
   ]
  },
  {
   "cell_type": "code",
   "execution_count": null,
   "metadata": {},
   "outputs": [],
   "source": [
    "def smape(A, F):\n",
    "    return 100/len(A) * np.sum(2 * np.abs(F - A) / (np.abs(A) + np.abs(F)))\n",
    "\n",
    "def mda(y_true, y_pred):\n",
    "    return np.mean((np.sign(y_true[1:] - y_pred[:-1]) == np.sign(y_pred[1:] - y_pred[:-1]).astype(int)))\n",
    "\n",
    "def calculate_metrics(y_real, y_pred):\n",
    "    metrics = {\n",
    "        \"MAPE\": mean_absolute_percentage_error(y_real, y_pred),\n",
    "        \"sMAPE\": smape(y_real, y_pred),\n",
    "        \"MAE\": mean_absolute_error(y_real, y_pred),\n",
    "        \"MDA\": mda(y_real, y_pred)\n",
    "    }\n",
    "    return metrics"
   ]
  },
  {
   "cell_type": "code",
   "execution_count": null,
   "metadata": {},
   "outputs": [],
   "source": [
    "data_path = \"./results/\"\n",
    "ml_results = os.listdir(data_path)\n",
    "ml_results_paths = [data_path + file for file in ml_results]\n",
    "\n",
    "results = []\n",
    "i = 0\n",
    "for path in ml_results_paths:\n",
    "    temp = {}\n",
    "    with open(path, \"rb\") as f:\n",
    "        payload = pickle.load(f)\n",
    "    \n",
    "    name = 'RFR' if ml_results[i].split('_')[1] == 'random' else ml_results[i].split('_')[1]\n",
    "    in_size = ml_results[i].split('_')[-3].replace('in','')\n",
    "    out_size = ml_results[i].split('_')[-2].replace('out','')\n",
    "    target = ml_results[i].split('_')[-1].replace('.pkl', '').replace('t','')\n",
    "    \n",
    "    #metrics = calculate_metrics(payload['y_real'].reshape(payload['y_real'].shape[0]), np.ravel(payload['y_pred']))\n",
    "\n",
    "    temp['NAME'] = name\n",
    "    temp['INPUT SIZE'] = in_size\n",
    "    temp['OUTPUT SIZE'] = out_size\n",
    "    temp['TARGET'] = target\n",
    "    temp['MAPE'] = payload['MAPE']\n",
    "    temp['SMAPE'] = payload['sMAPE']\n",
    "    temp['MAE'] = payload['MAE']\n",
    "    temp['MDA'] = payload['MDA']\n",
    "\n",
    "    results.append(temp)\n",
    "    i = i + 1\n",
    "\n",
    "ml_df = pd.DataFrame(results)\n"
   ]
  },
  {
   "cell_type": "code",
   "execution_count": null,
   "metadata": {},
   "outputs": [],
   "source": [
    "ml_df[ml_df['NAME'] == 'bagging'].sort_values(['INPUT SIZE'], ascending=True).reset_index(drop=True)"
   ]
  }
 ],
 "metadata": {
  "kernelspec": {
   "display_name": "Python 3.8.5 ('venv': venv)",
   "language": "python",
   "name": "python3"
  },
  "language_info": {
   "codemirror_mode": {
    "name": "ipython",
    "version": 3
   },
   "file_extension": ".py",
   "mimetype": "text/x-python",
   "name": "python",
   "nbconvert_exporter": "python",
   "pygments_lexer": "ipython3",
   "version": "3.8.5"
  },
  "orig_nbformat": 4,
  "vscode": {
   "interpreter": {
    "hash": "32d3e74f3df94fb62d833199ff807b97996d62fb18dca42b5a455cf9687e2e8c"
   }
  }
 },
 "nbformat": 4,
 "nbformat_minor": 2
}
