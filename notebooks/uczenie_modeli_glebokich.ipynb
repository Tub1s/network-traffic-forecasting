{
 "cells": [
  {
   "cell_type": "code",
   "execution_count": null,
   "metadata": {},
   "outputs": [],
   "source": [
    "import sys, os\n",
    "sys.path.append(os.path.abspath(os.path.join('..', 'src', 'features')))"
   ]
  },
  {
   "cell_type": "code",
   "execution_count": null,
   "metadata": {},
   "outputs": [],
   "source": [
    "# Utility imports\n",
    "import tqdm\n",
    "import pickle\n",
    "import gc\n",
    "from preprocessing import get_list_of_datapaths, load_data, make_train_test_datasets, split_sequence\n",
    "\n",
    "# Math and matrix manipulation imports\n",
    "import numpy as np\n",
    "\n",
    "# Machine learning imports\n",
    "import tensorflow as tf\n",
    "from tensorflow import keras\n",
    "from sklearn.neural_network import MLPRegressor\n",
    "from sklearn.metrics import mean_absolute_percentage_error, mean_absolute_error"
   ]
  },
  {
   "cell_type": "code",
   "execution_count": null,
   "metadata": {},
   "outputs": [],
   "source": [
    "gpus = tf.config.experimental.list_physical_devices('GPU')\n",
    "if gpus:\n",
    "    try:\n",
    "        # Currently, memory growth needs to be the same across GPUs\n",
    "        for gpu in gpus:\n",
    "            tf.config.experimental.set_memory_growth(gpu, True)\n",
    "            logical_gpus = tf.config.experimental.list_logical_devices('GPU')\n",
    "            print(len(gpus), 'Physical GPUs,', len(logical_gpus), 'Logical GPUs')\n",
    "    except RuntimeError as e:\n",
    "    # Memory growth must be set before GPUs have been initialized\n",
    "        print(e)"
   ]
  },
  {
   "cell_type": "code",
   "execution_count": null,
   "metadata": {},
   "outputs": [],
   "source": [
    "DATA_PATH = \"../datasets/traffic/\"\n",
    "\n",
    "list_of_datapaths = get_list_of_datapaths(DATA_PATH, sort = True)\n",
    "df = load_data(list_of_datapaths, [(5,8), (8, 5), (5,12), (8, 12)])\n",
    "train_df, test_df = make_train_test_datasets(df, split_point=20000)"
   ]
  },
  {
   "cell_type": "code",
   "execution_count": null,
   "metadata": {},
   "outputs": [],
   "source": [
    "def smape(A, F):\n",
    "    return 100/len(A) * np.sum(2 * np.abs(F - A) / (np.abs(A) + np.abs(F)))\n",
    "\n",
    "def mda(y_true, y_pred):\n",
    "    return np.mean((np.sign(y_true[1:] - y_pred[:-1]) == np.sign(y_pred[1:] - y_pred[:-1]).astype(int)))\n",
    "\n",
    "def calculate_metrics(y_real, y_pred):\n",
    "    metrics = {\n",
    "        \"MAPE\": mean_absolute_percentage_error(y_real, y_pred),\n",
    "        \"sMAPE\": smape(y_real, y_pred),\n",
    "        \"MAE\": mean_absolute_error(y_real, y_pred),\n",
    "        \"MDA\": mda(y_real, y_pred)\n",
    "    }\n",
    "    return metrics"
   ]
  },
  {
   "cell_type": "code",
   "execution_count": null,
   "metadata": {},
   "outputs": [],
   "source": [
    "X_train, y_train = split_sequence(sequence = train_df[\"5->8\"], n_input_steps=5, n_output_steps=1)"
   ]
  },
  {
   "cell_type": "code",
   "execution_count": null,
   "metadata": {},
   "outputs": [],
   "source": [
    "X_train"
   ]
  },
  {
   "cell_type": "code",
   "execution_count": null,
   "metadata": {},
   "outputs": [],
   "source": [
    "# Uczenie modeli MLP\n",
    "list_n_input_steps = [10, 25]\n",
    "list_n_output_steps = [1]\n",
    "list_targets = ['5->8', \"8->5\", \"5->12\", \"8->12\"]\n",
    "\n",
    "for n_input_steps in tqdm.tqdm(list_n_input_steps):\n",
    "    for n_output_steps in list_n_output_steps:\n",
    "        for target in list_targets:\n",
    "            X_train, y_train = prep.split_sequence(sequence = train_df[target], n_input_steps=n_input_steps, n_output_steps=n_output_steps)\n",
    "            X_test, y_test = prep.split_sequence(sequence = test_df[target], n_input_steps=n_input_steps, n_output_steps=n_output_steps)\n",
    "\n",
    "            #! Dla wielkości wyjścia m=1 | y_train = np.ravel(y_train) \n",
    "            regr = MLPRegressor(max_iter=500, hidden_layer_sizes=(100, ), random_state=0).fit(X_train, y_train)\n",
    "            y_pred = regr.predict(X_test)\n",
    "            #! Dla wielkości wyjścia m=1 | y_test = np.ravel(y_test)\n",
    "            \n",
    "            metrics = calculate_metrics(y_test, y_pred)\n",
    "            metrics['y_test'] = y_test\n",
    "            metrics['y_pred'] = y_pred\n",
    "\n",
    "            file_name = f\"mlp_{n_input_steps}in_{n_output_steps}out_target{target.replace('>', '')}.pkl\"\n",
    "\n",
    "            with open(f'./deeplearning_results/{file_name}', \"wb\") as f:\n",
    "                pickle.dump(metrics, f)"
   ]
  },
  {
   "cell_type": "code",
   "execution_count": null,
   "metadata": {},
   "outputs": [],
   "source": [
    "# Uczenie modeli BiLSTM\n",
    "list_n_input_steps = [1, 10, 25]\n",
    "list_n_output_steps = [1, 10, 25]\n",
    "list_targets = ['5->8', \"8->5\", \"5->12\", \"8->12\"]\n",
    "\n",
    "for n_input_steps in list_n_input_steps:\n",
    "    for n_output_steps in list_n_output_steps:\n",
    "        for target in list_targets:\n",
    "            X_train, y_train = prep.split_sequence(sequence = train_df[target], n_input_steps=n_input_steps, n_output_steps=n_output_steps)\n",
    "            X_test, y_test = prep.split_sequence(sequence = test_df[target], n_input_steps=n_input_steps, n_output_steps=n_output_steps)\n",
    "\n",
    "            x_t = tf.expand_dims(X_train, axis=-1)\n",
    "            y_t = tf.expand_dims(y_train, axis=-1)\n",
    "\n",
    "            model = tf.keras.models.Sequential()\n",
    "            model.add(tf.keras.layers.Bidirectional(tf.keras.layers.LSTM(50,return_sequences=True, input_shape=x_t.shape[1::])))\n",
    "            model.add(tf.keras.layers.Bidirectional(tf.keras.layers.LSTM(50)))\n",
    "            model.add(tf.keras.layers.Dense(y_t.shape[1]))\n",
    "            model.compile(optimizer='adam', loss='mse')\n",
    "            \n",
    "            history = model.fit(x_t, y_t, epochs=75, batch_size=128)\n",
    "            y_p = model.predict(X_test)\n",
    "            metrics = calculate_metrics(y_test, y_p)\n",
    "            \n",
    "            metrics['y_test'] = y_test\n",
    "            metrics['y_pred'] = y_p\n",
    "\n",
    "            file_name = f\"bidirectional_lstm_{n_input_steps}in_{n_output_steps}out_target{target.replace('>', '')}.pkl\"\n",
    "\n",
    "            with open(f'./deeplearning_results/{file_name}', \"wb\") as f:\n",
    "                pickle.dump(metrics, f)\n",
    "\n",
    "            del model\n",
    "            keras.backend.clear_session()\n",
    "            gc.collect()"
   ]
  }
 ],
 "metadata": {
  "kernelspec": {
   "display_name": "Python 3.8.5 ('venv': venv)",
   "language": "python",
   "name": "python3"
  },
  "language_info": {
   "codemirror_mode": {
    "name": "ipython",
    "version": 3
   },
   "file_extension": ".py",
   "mimetype": "text/x-python",
   "name": "python",
   "nbconvert_exporter": "python",
   "pygments_lexer": "ipython3",
   "version": "3.8.5"
  },
  "orig_nbformat": 4,
  "vscode": {
   "interpreter": {
    "hash": "32d3e74f3df94fb62d833199ff807b97996d62fb18dca42b5a455cf9687e2e8c"
   }
  }
 },
 "nbformat": 4,
 "nbformat_minor": 2
}
