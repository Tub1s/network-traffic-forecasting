{
 "cells": [
  {
   "cell_type": "code",
   "execution_count": null,
   "metadata": {},
   "outputs": [],
   "source": [
    "import pickle\n",
    "import pandas as pd\n",
    "import numpy as np\n",
    "import os"
   ]
  },
  {
   "cell_type": "code",
   "execution_count": null,
   "metadata": {},
   "outputs": [],
   "source": [
    "data_path = \"../results/deeplearning_results/\"\n",
    "dl_results = os.listdir(data_path)\n",
    "dl_results_paths = [data_path + file for file in dl_results]"
   ]
  },
  {
   "cell_type": "code",
   "execution_count": null,
   "metadata": {},
   "outputs": [],
   "source": [
    "results = []\n",
    "i = 0\n",
    "for path in dl_results_paths:\n",
    "    temp = {}\n",
    "    if \"lstm\" in path:\n",
    "        temp['name'] = \"BiLSTM\"\n",
    "        in_size = dl_results[i].split(\"_\")[2].replace('in', '')\n",
    "        out_size = dl_results[i].split(\"_\")[3].replace('out', '')\n",
    "        \n",
    "    else:\n",
    "        temp['name'] = \"MLP\"\n",
    "        in_size = dl_results[i].split(\"_\")[1].replace('in', '')\n",
    "        out_size = dl_results[i].split(\"_\")[2].replace('out', '')\n",
    "    \n",
    "    with open(path, \"rb\") as f:\n",
    "        payload = pickle.load(f)\n",
    "    \n",
    "    \n",
    "    temp['INPUT SIZE'] = in_size\n",
    "    temp['OUTPUT SIZE'] = out_size\n",
    "    temp['TARGET'] = dl_results[i].split(\"_\")[-1].replace('target', '').replace('.pkl','')\n",
    "    temp['MAPE'] = payload['MAPE']\n",
    "    temp['SMAPE'] = payload['sMAPE']\n",
    "    temp['MAE'] = payload['MAE']\n",
    "    temp['MDA'] = payload['MDA']\n",
    "\n",
    "    results.append(temp)\n",
    "    i = i + 1\n",
    "\n",
    "df = pd.DataFrame(results)"
   ]
  },
  {
   "cell_type": "code",
   "execution_count": null,
   "metadata": {},
   "outputs": [],
   "source": [
    "df[df['name'] == 'BiLSTM']"
   ]
  },
  {
   "cell_type": "code",
   "execution_count": null,
   "metadata": {},
   "outputs": [],
   "source": [
    "df[df['name'] == 'MLP']"
   ]
  },
  {
   "cell_type": "code",
   "execution_count": null,
   "metadata": {},
   "outputs": [],
   "source": [
    "data_path = \"../results/\"\n",
    "ml_results = os.listdir(data_path)\n",
    "ml_results_paths = [data_path + file for file in ml_results]\n",
    "\n",
    "results = []\n",
    "i = 0\n",
    "for path in ml_results_paths:\n",
    "    temp = {}\n",
    "    with open(path, \"rb\") as f:\n",
    "        payload = pickle.load(f)\n",
    "    \n",
    "    name = 'RFR' if ml_results[i].split('_')[1] == 'random' else ml_results[i].split('_')[1]\n",
    "    in_size = ml_results[i].split('_')[-3].replace('in','')\n",
    "    out_size = ml_results[i].split('_')[-2].replace('out','')\n",
    "    target = ml_results[i].split('_')[-1].replace('.pkl', '').replace('t','')\n",
    "\n",
    "    temp['NAME'] = name\n",
    "    temp['INPUT SIZE'] = in_size\n",
    "    temp['OUTPUT SIZE'] = out_size\n",
    "    temp['TARGET'] = target\n",
    "    temp['MAPE'] = payload['MAPE']\n",
    "    temp['SMAPE'] = payload['sMAPE']\n",
    "    temp['MAE'] = payload['MAE']\n",
    "    temp['MDA'] = payload['MDA']\n",
    "\n",
    "    results.append(temp)\n",
    "    i = i + 1\n",
    "\n",
    "ml_df = pd.DataFrame(results)\n"
   ]
  },
  {
   "cell_type": "code",
   "execution_count": null,
   "metadata": {},
   "outputs": [],
   "source": [
    "ml_df[ml_df['NAME'] == 'bagging'].sort_values(['INPUT SIZE'], ascending=True).reset_index(drop=True)"
   ]
  },
  {
   "cell_type": "code",
   "execution_count": null,
   "metadata": {},
   "outputs": [],
   "source": [
    "ml_df[ml_df['NAME'] == 'default'].sort_values(['INPUT SIZE'], ascending=True).reset_index(drop=True)"
   ]
  }
 ],
 "metadata": {
  "kernelspec": {
   "display_name": "Python 3.8.5 ('venv': venv)",
   "language": "python",
   "name": "python3"
  },
  "language_info": {
   "codemirror_mode": {
    "name": "ipython",
    "version": 3
   },
   "file_extension": ".py",
   "mimetype": "text/x-python",
   "name": "python",
   "nbconvert_exporter": "python",
   "pygments_lexer": "ipython3",
   "version": "3.8.5"
  },
  "orig_nbformat": 4,
  "vscode": {
   "interpreter": {
    "hash": "32d3e74f3df94fb62d833199ff807b97996d62fb18dca42b5a455cf9687e2e8c"
   }
  }
 },
 "nbformat": 4,
 "nbformat_minor": 2
}
